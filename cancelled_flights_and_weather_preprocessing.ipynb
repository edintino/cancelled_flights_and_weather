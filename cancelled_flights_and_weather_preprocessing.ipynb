{
 "cells": [
  {
   "cell_type": "code",
   "execution_count": 1,
   "metadata": {},
   "outputs": [],
   "source": [
    "import pandas as pd\n",
    "from collections import Counter\n",
    "from numpy import arcsin, sin, cos, sqrt, pi, round_\n",
    "import numpy as np"
   ]
  },
  {
   "cell_type": "code",
   "execution_count": 2,
   "metadata": {},
   "outputs": [],
   "source": [
    "earths_radius = 6.371e3 # Earth's radius in km"
   ]
  },
  {
   "cell_type": "code",
   "execution_count": 3,
   "metadata": {},
   "outputs": [],
   "source": [
    "def distance(coordinates): #(lat1,lat2,long1,long2)\n",
    "    \"\"\"Calculates the distance from longitude and latitude\n",
    "    between two points using the Haversine formula, result in km.\"\"\"\n",
    "    \n",
    "    phi1 = coordinates[0]*pi/180 # Converting to radians\n",
    "    phi2 = coordinates[1]*pi/180\n",
    "    lambda1 = coordinates[2]*pi/180\n",
    "    lambda2 = coordinates[3]*pi/180\n",
    "\n",
    "    distance = 2*earths_radius*arcsin(sqrt(sin((phi2-phi1)/2)**2 +\\\n",
    "                cos(phi1)*cos(phi2)*sin((lambda2-lambda1)/2)**2))\n",
    "    \n",
    "    return distance"
   ]
  },
  {
   "cell_type": "code",
   "execution_count": 4,
   "metadata": {},
   "outputs": [
    {
     "name": "stderr",
     "output_type": "stream",
     "text": [
      "/home/eugenio/anaconda3/lib/python3.6/site-packages/IPython/core/interactiveshell.py:3018: DtypeWarning: Columns (7,8) have mixed types. Specify dtype option on import or set low_memory=False.\n",
      "  interactivity=interactivity, compiler=compiler, result=result)\n"
     ]
    }
   ],
   "source": [
    "\"\"\"Import the data files\"\"\"\n",
    "#airlines = pd.read_csv(\"data/airlines.csv\")\n",
    "airports = pd.read_csv(\"data/airports.csv\")\n",
    "flights = pd.read_csv(\"data/flights.csv\")\n",
    "weather = pd.read_csv(\"data/2015_usa_weather.csv\")"
   ]
  },
  {
   "cell_type": "code",
   "execution_count": 5,
   "metadata": {},
   "outputs": [],
   "source": [
    "# Use only useful columns\n",
    "airports = airports[['IATA_CODE', 'LATITUDE', 'LONGITUDE']]\n",
    "flights = flights[['YEAR', 'MONTH', 'DAY', 'ORIGIN_AIRPORT', 'DESTINATION_AIRPORT', 'CANCELLED']]\n",
    "weather = weather[['LATITUDE', 'LONGITUDE', 'AvgTemp', 'MaxTemp', 'MinTemp', 'Date']]\n",
    "\n",
    "# Manipulation for date indices for weather\n",
    "weather.columns = map(str.upper, weather.columns) # Set uppercase for labels\n",
    "weather['DATE'] = pd.to_datetime(weather['DATE'])"
   ]
  },
  {
   "cell_type": "code",
   "execution_count": 6,
   "metadata": {},
   "outputs": [],
   "source": [
    "# Set latitude/longitude for given precision\n",
    "weather['LATITUDE'] = round_(weather['LATITUDE'],4)\n",
    "weather['LONGITUDE'] = round_(weather['LONGITUDE'],4)\n",
    "\n",
    "airports['LATITUDE'] = round_(airports['LATITUDE'],4)\n",
    "airports['LONGITUDE'] = round_(airports['LONGITUDE'],4)"
   ]
  },
  {
   "cell_type": "code",
   "execution_count": 7,
   "metadata": {},
   "outputs": [],
   "source": [
    "# Calculate the closest weather measurement (station) to the given airport\n",
    "weather_data = pd.DataFrame()\n",
    "weather_data['COORDINATES'] = list(zip(weather['LATITUDE'],weather['LONGITUDE'])) # create one coordinate\n",
    "weather_data = weather_data.drop_duplicates(subset='COORDINATES') # for coordiante wise drop, location fixed in time\n",
    "weather_data[['LATITUDE','LONGITUDE']] =  weather_data['COORDINATES'].apply(pd.Series)\n",
    "weather_data = weather_data.drop('COORDINATES',axis=1)\n",
    "\n",
    "length = len(weather_data['LATITUDE'].values)\n",
    "closest_weather = []\n",
    "\n",
    "for airport in airports.index.values:\n",
    "    \n",
    "    coordinates = list(zip([airports.loc[airport]['LATITUDE']]*length,weather_data['LATITUDE'],\n",
    "                           [airports.loc[airport]['LONGITUDE']]*length,weather_data['LONGITUDE']))\n",
    "    mapped = list(map(distance, coordinates))\n",
    "    index = mapped.index(min(mapped))\n",
    "    closest_weather.append((coordinates[index][1],coordinates[index][3]))\n",
    "    \n",
    "airports['WEATHER_COORDINATES'] = closest_weather\n",
    "\n",
    "# Separate coordinates\n",
    "airports[['WEATHER_LATITUDE', 'WEATHER_LONGITUDE']] = airports['WEATHER_COORDINATES'].apply(pd.Series)\n",
    "airports = airports.drop('WEATHER_COORDINATES',axis=1)"
   ]
  },
  {
   "cell_type": "code",
   "execution_count": 8,
   "metadata": {},
   "outputs": [
    {
     "data": {
      "text/plain": [
       "Index(['IATA_CODE', 'LATITUDE', 'LONGITUDE', 'WEATHER_LATITUDE',\n",
       "       'WEATHER_LONGITUDE'],\n",
       "      dtype='object')"
      ]
     },
     "execution_count": 8,
     "metadata": {},
     "output_type": "execute_result"
    }
   ],
   "source": [
    "airports.columns"
   ]
  },
  {
   "cell_type": "code",
   "execution_count": 9,
   "metadata": {},
   "outputs": [],
   "source": [
    "# Set required labels for merging\n",
    "airports.columns = ['IATA_CODE', 'ORIGIN_LATITUDE', 'ORIGIN_LONGITUDE',\n",
    "                    'ORIGIN_WEATHER_LATITUDE', 'ORIGIN_WEATHER_LONGITUDE']"
   ]
  },
  {
   "cell_type": "code",
   "execution_count": 10,
   "metadata": {},
   "outputs": [],
   "source": [
    "# Merge data to get origin airport coordinates\n",
    "flights = pd.merge(flights, airports, left_on='ORIGIN_AIRPORT', right_on='IATA_CODE',\n",
    "                   how='right').drop('IATA_CODE', axis=1)"
   ]
  },
  {
   "cell_type": "code",
   "execution_count": 11,
   "metadata": {},
   "outputs": [],
   "source": [
    "# Set required labels for merging\n",
    "airports.columns = ['IATA_CODE', 'DESTINATION_LATITUDE', 'DESTINATION_LONGITUDE',\n",
    "                    'DESTINATION_WEATHER_LATITUDE', 'DESTINATION_WEATHER_LONGITUDE']"
   ]
  },
  {
   "cell_type": "code",
   "execution_count": 12,
   "metadata": {},
   "outputs": [],
   "source": [
    "# Merge data to get destination airport coordinates\n",
    "flights = pd.merge(flights, airports, left_on='DESTINATION_AIRPORT', right_on='IATA_CODE',\n",
    "                   how='right').drop('IATA_CODE', axis=1)"
   ]
  },
  {
   "cell_type": "code",
   "execution_count": 13,
   "metadata": {},
   "outputs": [],
   "source": [
    "# Set the original labels\n",
    "airports.columns = ['IATA_CODE', 'LATITUDE', 'LONGITUDE', 'WEATHER_LATITUDE', 'WEATHER_LONGITUDE']"
   ]
  },
  {
   "cell_type": "code",
   "execution_count": 14,
   "metadata": {},
   "outputs": [],
   "source": [
    "# Drop flights with missing latitude and longitude data\n",
    "flights = flights[pd.notnull(flights['ORIGIN_LATITUDE'])]\n",
    "flights = flights[pd.notnull(flights['DESTINATION_LATITUDE'])]"
   ]
  },
  {
   "cell_type": "code",
   "execution_count": 15,
   "metadata": {},
   "outputs": [],
   "source": [
    "# Manipulation for date indices for flights\n",
    "flights['DATE'] = flights['YEAR'].astype(str)+\"-\"+flights['MONTH'].astype(str)+\"-\"+flights['DAY'].astype(str)\n",
    "flights = flights.drop(['YEAR','MONTH','DAY'],axis=1)\n",
    "\n",
    "flights['DATE'] = pd.to_datetime(flights['DATE'])"
   ]
  },
  {
   "cell_type": "code",
   "execution_count": 16,
   "metadata": {},
   "outputs": [],
   "source": [
    "# Calculate distance between airports and create a separate column for it\n",
    "distances = list(map(distance,list(zip(flights['ORIGIN_LATITUDE'],flights['DESTINATION_LATITUDE'],\n",
    "                                       flights['ORIGIN_LONGITUDE'],flights['DESTINATION_LONGITUDE']))))\n",
    "\n",
    "flights['DISTANCE'] = distances"
   ]
  },
  {
   "cell_type": "code",
   "execution_count": 17,
   "metadata": {},
   "outputs": [
    {
     "data": {
      "text/plain": [
       "Index(['LATITUDE', 'LONGITUDE', 'AVGTEMP', 'MAXTEMP', 'MINTEMP', 'DATE'], dtype='object')"
      ]
     },
     "execution_count": 17,
     "metadata": {},
     "output_type": "execute_result"
    }
   ],
   "source": [
    "weather.columns"
   ]
  },
  {
   "cell_type": "code",
   "execution_count": 18,
   "metadata": {},
   "outputs": [],
   "source": [
    "# Set required labels for merging\n",
    "weather.columns = ['LATITUDE', 'LONGITUDE', 'ORIGIN_AVGTEMP', 'ORIGIN_MAXTEMP', 'ORIGIN_MINTEMP', 'DATE']"
   ]
  },
  {
   "cell_type": "code",
   "execution_count": 19,
   "metadata": {},
   "outputs": [],
   "source": [
    "# Merge for origin weather at given days\n",
    "flights = pd.merge(flights,weather,left_on=['ORIGIN_WEATHER_LATITUDE','ORIGIN_WEATHER_LONGITUDE','DATE'],\n",
    "        right_on=['LATITUDE','LONGITUDE','DATE'])"
   ]
  },
  {
   "cell_type": "code",
   "execution_count": 20,
   "metadata": {},
   "outputs": [],
   "source": [
    "# Set required labels for merging\n",
    "weather.columns = ['LATITUDE', 'LONGITUDE', 'DESTINATION_AVGTEMP', 'DESTINATION_MAXTEMP', 'DESTINATION_MINTEMP', 'DATE']"
   ]
  },
  {
   "cell_type": "code",
   "execution_count": 21,
   "metadata": {},
   "outputs": [],
   "source": [
    "# Merge for destination weather at given days\n",
    "flights = pd.merge(flights,weather,left_on=['DESTINATION_WEATHER_LATITUDE','DESTINATION_WEATHER_LONGITUDE','DATE'],\n",
    "        right_on=['LATITUDE','LONGITUDE','DATE'])"
   ]
  },
  {
   "cell_type": "code",
   "execution_count": 22,
   "metadata": {},
   "outputs": [
    {
     "data": {
      "text/plain": [
       "Index(['ORIGIN_AIRPORT', 'DESTINATION_AIRPORT', 'CANCELLED', 'ORIGIN_LATITUDE',\n",
       "       'ORIGIN_LONGITUDE', 'ORIGIN_WEATHER_LATITUDE',\n",
       "       'ORIGIN_WEATHER_LONGITUDE', 'DESTINATION_LATITUDE',\n",
       "       'DESTINATION_LONGITUDE', 'DESTINATION_WEATHER_LATITUDE',\n",
       "       'DESTINATION_WEATHER_LONGITUDE', 'DATE', 'DISTANCE', 'LATITUDE_x',\n",
       "       'LONGITUDE_x', 'ORIGIN_AVGTEMP', 'ORIGIN_MAXTEMP', 'ORIGIN_MINTEMP',\n",
       "       'LATITUDE_y', 'LONGITUDE_y', 'DESTINATION_AVGTEMP',\n",
       "       'DESTINATION_MAXTEMP', 'DESTINATION_MINTEMP'],\n",
       "      dtype='object')"
      ]
     },
     "execution_count": 22,
     "metadata": {},
     "output_type": "execute_result"
    }
   ],
   "source": [
    "flights.columns"
   ]
  },
  {
   "cell_type": "code",
   "execution_count": 23,
   "metadata": {
    "scrolled": true
   },
   "outputs": [],
   "source": [
    "# Use the useful columns\n",
    "flights = flights[['ORIGIN_AIRPORT', 'DESTINATION_AIRPORT', 'DISTANCE', 'ORIGIN_AVGTEMP', 'ORIGIN_MAXTEMP',\n",
    "                   'ORIGIN_MINTEMP', 'DESTINATION_AVGTEMP', 'DESTINATION_MAXTEMP', 'DESTINATION_MINTEMP', 'CANCELLED']]"
   ]
  },
  {
   "cell_type": "code",
   "execution_count": 24,
   "metadata": {},
   "outputs": [
    {
     "data": {
      "text/html": [
       "<div>\n",
       "<style scoped>\n",
       "    .dataframe tbody tr th:only-of-type {\n",
       "        vertical-align: middle;\n",
       "    }\n",
       "\n",
       "    .dataframe tbody tr th {\n",
       "        vertical-align: top;\n",
       "    }\n",
       "\n",
       "    .dataframe thead th {\n",
       "        text-align: right;\n",
       "    }\n",
       "</style>\n",
       "<table border=\"1\" class=\"dataframe\">\n",
       "  <thead>\n",
       "    <tr style=\"text-align: right;\">\n",
       "      <th></th>\n",
       "      <th>ORIGIN_AIRPORT</th>\n",
       "      <th>DESTINATION_AIRPORT</th>\n",
       "      <th>DISTANCE</th>\n",
       "      <th>ORIGIN_AVGTEMP</th>\n",
       "      <th>ORIGIN_MAXTEMP</th>\n",
       "      <th>ORIGIN_MINTEMP</th>\n",
       "      <th>DESTINATION_AVGTEMP</th>\n",
       "      <th>DESTINATION_MAXTEMP</th>\n",
       "      <th>DESTINATION_MINTEMP</th>\n",
       "      <th>CANCELLED</th>\n",
       "    </tr>\n",
       "  </thead>\n",
       "  <tbody>\n",
       "    <tr>\n",
       "      <th>0</th>\n",
       "      <td>ANC</td>\n",
       "      <td>SEA</td>\n",
       "      <td>2325.630321</td>\n",
       "      <td>35</td>\n",
       "      <td>35</td>\n",
       "      <td>27</td>\n",
       "      <td>33</td>\n",
       "      <td>42</td>\n",
       "      <td>26</td>\n",
       "      <td>0</td>\n",
       "    </tr>\n",
       "    <tr>\n",
       "      <th>1</th>\n",
       "      <td>ANC</td>\n",
       "      <td>SEA</td>\n",
       "      <td>2325.630321</td>\n",
       "      <td>35</td>\n",
       "      <td>35</td>\n",
       "      <td>27</td>\n",
       "      <td>33</td>\n",
       "      <td>42</td>\n",
       "      <td>26</td>\n",
       "      <td>0</td>\n",
       "    </tr>\n",
       "    <tr>\n",
       "      <th>2</th>\n",
       "      <td>ANC</td>\n",
       "      <td>SEA</td>\n",
       "      <td>2325.630321</td>\n",
       "      <td>35</td>\n",
       "      <td>35</td>\n",
       "      <td>27</td>\n",
       "      <td>33</td>\n",
       "      <td>42</td>\n",
       "      <td>26</td>\n",
       "      <td>0</td>\n",
       "    </tr>\n",
       "    <tr>\n",
       "      <th>3</th>\n",
       "      <td>ANC</td>\n",
       "      <td>SEA</td>\n",
       "      <td>2325.630321</td>\n",
       "      <td>35</td>\n",
       "      <td>35</td>\n",
       "      <td>27</td>\n",
       "      <td>33</td>\n",
       "      <td>42</td>\n",
       "      <td>26</td>\n",
       "      <td>1</td>\n",
       "    </tr>\n",
       "    <tr>\n",
       "      <th>4</th>\n",
       "      <td>ANC</td>\n",
       "      <td>SEA</td>\n",
       "      <td>2325.630321</td>\n",
       "      <td>35</td>\n",
       "      <td>35</td>\n",
       "      <td>27</td>\n",
       "      <td>33</td>\n",
       "      <td>42</td>\n",
       "      <td>26</td>\n",
       "      <td>0</td>\n",
       "    </tr>\n",
       "  </tbody>\n",
       "</table>\n",
       "</div>"
      ],
      "text/plain": [
       "  ORIGIN_AIRPORT DESTINATION_AIRPORT     DISTANCE  ORIGIN_AVGTEMP  \\\n",
       "0            ANC                 SEA  2325.630321              35   \n",
       "1            ANC                 SEA  2325.630321              35   \n",
       "2            ANC                 SEA  2325.630321              35   \n",
       "3            ANC                 SEA  2325.630321              35   \n",
       "4            ANC                 SEA  2325.630321              35   \n",
       "\n",
       "   ORIGIN_MAXTEMP  ORIGIN_MINTEMP  DESTINATION_AVGTEMP  DESTINATION_MAXTEMP  \\\n",
       "0              35              27                   33                   42   \n",
       "1              35              27                   33                   42   \n",
       "2              35              27                   33                   42   \n",
       "3              35              27                   33                   42   \n",
       "4              35              27                   33                   42   \n",
       "\n",
       "   DESTINATION_MINTEMP  CANCELLED  \n",
       "0                   26          0  \n",
       "1                   26          0  \n",
       "2                   26          0  \n",
       "3                   26          1  \n",
       "4                   26          0  "
      ]
     },
     "execution_count": 24,
     "metadata": {},
     "output_type": "execute_result"
    }
   ],
   "source": [
    "flights.head()"
   ]
  },
  {
   "cell_type": "code",
   "execution_count": 25,
   "metadata": {},
   "outputs": [],
   "source": [
    "# Save to a pickle file\n",
    "flights.to_pickle('./flights_dataframe.p')"
   ]
  }
 ],
 "metadata": {
  "kernelspec": {
   "display_name": "Python 3",
   "language": "python",
   "name": "python3"
  },
  "language_info": {
   "codemirror_mode": {
    "name": "ipython",
    "version": 3
   },
   "file_extension": ".py",
   "mimetype": "text/x-python",
   "name": "python",
   "nbconvert_exporter": "python",
   "pygments_lexer": "ipython3",
   "version": "3.6.6"
  }
 },
 "nbformat": 4,
 "nbformat_minor": 2
}
