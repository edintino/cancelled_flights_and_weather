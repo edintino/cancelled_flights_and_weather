{
 "cells": [
  {
   "cell_type": "code",
   "execution_count": 1,
   "metadata": {},
   "outputs": [],
   "source": [
    "import pandas as pd\n",
    "import tensorflow as tf\n",
    "from sklearn.preprocessing import MinMaxScaler\n",
    "from sklearn.model_selection import train_test_split\n",
    "from collections import Counter\n",
    "from sklearn.metrics import classification_report\n",
    "\n",
    "# ignore warnings\n",
    "import warnings\n",
    "warnings.filterwarnings('ignore')"
   ]
  },
  {
   "cell_type": "code",
   "execution_count": 2,
   "metadata": {},
   "outputs": [
    {
     "data": {
      "text/html": [
       "<div>\n",
       "<style scoped>\n",
       "    .dataframe tbody tr th:only-of-type {\n",
       "        vertical-align: middle;\n",
       "    }\n",
       "\n",
       "    .dataframe tbody tr th {\n",
       "        vertical-align: top;\n",
       "    }\n",
       "\n",
       "    .dataframe thead th {\n",
       "        text-align: right;\n",
       "    }\n",
       "</style>\n",
       "<table border=\"1\" class=\"dataframe\">\n",
       "  <thead>\n",
       "    <tr style=\"text-align: right;\">\n",
       "      <th></th>\n",
       "      <th>ORIGIN_AIRPORT</th>\n",
       "      <th>DESTINATION_AIRPORT</th>\n",
       "      <th>DISTANCE</th>\n",
       "      <th>ORIGIN_AVGTEMP</th>\n",
       "      <th>ORIGIN_MAXTEMP</th>\n",
       "      <th>ORIGIN_MINTEMP</th>\n",
       "      <th>DESTINATION_AVGTEMP</th>\n",
       "      <th>DESTINATION_MAXTEMP</th>\n",
       "      <th>DESTINATION_MINTEMP</th>\n",
       "      <th>CANCELLED</th>\n",
       "    </tr>\n",
       "  </thead>\n",
       "  <tbody>\n",
       "    <tr>\n",
       "      <th>0</th>\n",
       "      <td>ANC</td>\n",
       "      <td>SEA</td>\n",
       "      <td>2325.630321</td>\n",
       "      <td>35</td>\n",
       "      <td>35</td>\n",
       "      <td>27</td>\n",
       "      <td>33</td>\n",
       "      <td>42</td>\n",
       "      <td>26</td>\n",
       "      <td>0</td>\n",
       "    </tr>\n",
       "    <tr>\n",
       "      <th>1</th>\n",
       "      <td>ANC</td>\n",
       "      <td>SEA</td>\n",
       "      <td>2325.630321</td>\n",
       "      <td>35</td>\n",
       "      <td>35</td>\n",
       "      <td>27</td>\n",
       "      <td>33</td>\n",
       "      <td>42</td>\n",
       "      <td>26</td>\n",
       "      <td>0</td>\n",
       "    </tr>\n",
       "    <tr>\n",
       "      <th>2</th>\n",
       "      <td>ANC</td>\n",
       "      <td>SEA</td>\n",
       "      <td>2325.630321</td>\n",
       "      <td>35</td>\n",
       "      <td>35</td>\n",
       "      <td>27</td>\n",
       "      <td>33</td>\n",
       "      <td>42</td>\n",
       "      <td>26</td>\n",
       "      <td>0</td>\n",
       "    </tr>\n",
       "    <tr>\n",
       "      <th>3</th>\n",
       "      <td>ANC</td>\n",
       "      <td>SEA</td>\n",
       "      <td>2325.630321</td>\n",
       "      <td>35</td>\n",
       "      <td>35</td>\n",
       "      <td>27</td>\n",
       "      <td>33</td>\n",
       "      <td>42</td>\n",
       "      <td>26</td>\n",
       "      <td>1</td>\n",
       "    </tr>\n",
       "    <tr>\n",
       "      <th>4</th>\n",
       "      <td>ANC</td>\n",
       "      <td>SEA</td>\n",
       "      <td>2325.630321</td>\n",
       "      <td>35</td>\n",
       "      <td>35</td>\n",
       "      <td>27</td>\n",
       "      <td>33</td>\n",
       "      <td>42</td>\n",
       "      <td>26</td>\n",
       "      <td>0</td>\n",
       "    </tr>\n",
       "  </tbody>\n",
       "</table>\n",
       "</div>"
      ],
      "text/plain": [
       "  ORIGIN_AIRPORT DESTINATION_AIRPORT     DISTANCE  ORIGIN_AVGTEMP  \\\n",
       "0            ANC                 SEA  2325.630321              35   \n",
       "1            ANC                 SEA  2325.630321              35   \n",
       "2            ANC                 SEA  2325.630321              35   \n",
       "3            ANC                 SEA  2325.630321              35   \n",
       "4            ANC                 SEA  2325.630321              35   \n",
       "\n",
       "   ORIGIN_MAXTEMP  ORIGIN_MINTEMP  DESTINATION_AVGTEMP  DESTINATION_MAXTEMP  \\\n",
       "0              35              27                   33                   42   \n",
       "1              35              27                   33                   42   \n",
       "2              35              27                   33                   42   \n",
       "3              35              27                   33                   42   \n",
       "4              35              27                   33                   42   \n",
       "\n",
       "   DESTINATION_MINTEMP  CANCELLED  \n",
       "0                   26          0  \n",
       "1                   26          0  \n",
       "2                   26          0  \n",
       "3                   26          1  \n",
       "4                   26          0  "
      ]
     },
     "execution_count": 2,
     "metadata": {},
     "output_type": "execute_result"
    }
   ],
   "source": [
    "# Import data\n",
    "flights = pd.read_pickle(\"./flights_dataframe.p\")\n",
    "flights.head()"
   ]
  },
  {
   "cell_type": "code",
   "execution_count": 3,
   "metadata": {},
   "outputs": [
    {
     "data": {
      "text/plain": [
       "Index(['ORIGIN_AIRPORT', 'DESTINATION_AIRPORT', 'DISTANCE', 'ORIGIN_AVGTEMP',\n",
       "       'ORIGIN_MAXTEMP', 'ORIGIN_MINTEMP', 'DESTINATION_AVGTEMP',\n",
       "       'DESTINATION_MAXTEMP', 'DESTINATION_MINTEMP', 'CANCELLED'],\n",
       "      dtype='object')"
      ]
     },
     "execution_count": 3,
     "metadata": {},
     "output_type": "execute_result"
    }
   ],
   "source": [
    "flights.columns"
   ]
  },
  {
   "cell_type": "code",
   "execution_count": 4,
   "metadata": {},
   "outputs": [],
   "source": [
    "cols_to_norm = ['DISTANCE', 'ORIGIN_AVGTEMP', 'ORIGIN_MAXTEMP', 'ORIGIN_MINTEMP',\n",
    "                'DESTINATION_AVGTEMP', 'DESTINATION_MAXTEMP', 'DESTINATION_MINTEMP']"
   ]
  },
  {
   "cell_type": "code",
   "execution_count": 5,
   "metadata": {},
   "outputs": [],
   "source": [
    "# Separate independent columns from the dependent column\n",
    "x_data = flights.drop('CANCELLED',axis=1)\n",
    "y_vals = flights['CANCELLED']"
   ]
  },
  {
   "cell_type": "code",
   "execution_count": 6,
   "metadata": {},
   "outputs": [],
   "source": [
    "# Train-test split\n",
    "x_train, x_test, y_train, y_test = train_test_split(x_data,y_vals,test_size=0.3,random_state=12345)"
   ]
  },
  {
   "cell_type": "code",
   "execution_count": 7,
   "metadata": {},
   "outputs": [],
   "source": [
    "# Create a scaler\n",
    "scaler = MinMaxScaler()"
   ]
  },
  {
   "cell_type": "code",
   "execution_count": 8,
   "metadata": {},
   "outputs": [],
   "source": [
    "# Fit data to the scaler and tranform all the numeric columns\n",
    "x_train[cols_to_norm] = pd.DataFrame(scaler.fit_transform(x_train[cols_to_norm]),\n",
    "                                     index=x_train[cols_to_norm].index,\n",
    "                                     columns=x_train[cols_to_norm].columns)\n",
    "x_test[cols_to_norm] = pd.DataFrame(scaler.transform(x_test[cols_to_norm]),\n",
    "                                    index=x_test[cols_to_norm].index,\n",
    "                                    columns=x_test[cols_to_norm].columns)"
   ]
  },
  {
   "cell_type": "code",
   "execution_count": 9,
   "metadata": {
    "scrolled": true
   },
   "outputs": [
    {
     "data": {
      "text/html": [
       "<div>\n",
       "<style scoped>\n",
       "    .dataframe tbody tr th:only-of-type {\n",
       "        vertical-align: middle;\n",
       "    }\n",
       "\n",
       "    .dataframe tbody tr th {\n",
       "        vertical-align: top;\n",
       "    }\n",
       "\n",
       "    .dataframe thead th {\n",
       "        text-align: right;\n",
       "    }\n",
       "</style>\n",
       "<table border=\"1\" class=\"dataframe\">\n",
       "  <thead>\n",
       "    <tr style=\"text-align: right;\">\n",
       "      <th></th>\n",
       "      <th>ORIGIN_AIRPORT</th>\n",
       "      <th>DESTINATION_AIRPORT</th>\n",
       "      <th>DISTANCE</th>\n",
       "      <th>ORIGIN_AVGTEMP</th>\n",
       "      <th>ORIGIN_MAXTEMP</th>\n",
       "      <th>ORIGIN_MINTEMP</th>\n",
       "      <th>DESTINATION_AVGTEMP</th>\n",
       "      <th>DESTINATION_MAXTEMP</th>\n",
       "      <th>DESTINATION_MINTEMP</th>\n",
       "    </tr>\n",
       "  </thead>\n",
       "  <tbody>\n",
       "    <tr>\n",
       "      <th>2692967</th>\n",
       "      <td>LAS</td>\n",
       "      <td>RNO</td>\n",
       "      <td>0.065508</td>\n",
       "      <td>0.778523</td>\n",
       "      <td>0.763158</td>\n",
       "      <td>0.727273</td>\n",
       "      <td>0.610738</td>\n",
       "      <td>0.631579</td>\n",
       "      <td>0.571429</td>\n",
       "    </tr>\n",
       "    <tr>\n",
       "      <th>2851850</th>\n",
       "      <td>HNL</td>\n",
       "      <td>ITO</td>\n",
       "      <td>0.039466</td>\n",
       "      <td>0.805369</td>\n",
       "      <td>0.782895</td>\n",
       "      <td>0.772727</td>\n",
       "      <td>0.771812</td>\n",
       "      <td>0.750000</td>\n",
       "      <td>0.746753</td>\n",
       "    </tr>\n",
       "    <tr>\n",
       "      <th>1787302</th>\n",
       "      <td>DEN</td>\n",
       "      <td>SLC</td>\n",
       "      <td>0.074593</td>\n",
       "      <td>0.644295</td>\n",
       "      <td>0.671053</td>\n",
       "      <td>0.597403</td>\n",
       "      <td>0.644295</td>\n",
       "      <td>0.657895</td>\n",
       "      <td>0.590909</td>\n",
       "    </tr>\n",
       "    <tr>\n",
       "      <th>4375150</th>\n",
       "      <td>IAH</td>\n",
       "      <td>HOB</td>\n",
       "      <td>0.096919</td>\n",
       "      <td>0.798658</td>\n",
       "      <td>0.796053</td>\n",
       "      <td>0.753247</td>\n",
       "      <td>0.724832</td>\n",
       "      <td>0.769737</td>\n",
       "      <td>0.675325</td>\n",
       "    </tr>\n",
       "    <tr>\n",
       "      <th>2023007</th>\n",
       "      <td>LAX</td>\n",
       "      <td>LIH</td>\n",
       "      <td>0.522945</td>\n",
       "      <td>0.630872</td>\n",
       "      <td>0.605263</td>\n",
       "      <td>0.603896</td>\n",
       "      <td>0.771812</td>\n",
       "      <td>0.756579</td>\n",
       "      <td>0.766234</td>\n",
       "    </tr>\n",
       "  </tbody>\n",
       "</table>\n",
       "</div>"
      ],
      "text/plain": [
       "        ORIGIN_AIRPORT DESTINATION_AIRPORT  DISTANCE  ORIGIN_AVGTEMP  \\\n",
       "2692967            LAS                 RNO  0.065508        0.778523   \n",
       "2851850            HNL                 ITO  0.039466        0.805369   \n",
       "1787302            DEN                 SLC  0.074593        0.644295   \n",
       "4375150            IAH                 HOB  0.096919        0.798658   \n",
       "2023007            LAX                 LIH  0.522945        0.630872   \n",
       "\n",
       "         ORIGIN_MAXTEMP  ORIGIN_MINTEMP  DESTINATION_AVGTEMP  \\\n",
       "2692967        0.763158        0.727273             0.610738   \n",
       "2851850        0.782895        0.772727             0.771812   \n",
       "1787302        0.671053        0.597403             0.644295   \n",
       "4375150        0.796053        0.753247             0.724832   \n",
       "2023007        0.605263        0.603896             0.771812   \n",
       "\n",
       "         DESTINATION_MAXTEMP  DESTINATION_MINTEMP  \n",
       "2692967             0.631579             0.571429  \n",
       "2851850             0.750000             0.746753  \n",
       "1787302             0.657895             0.590909  \n",
       "4375150             0.769737             0.675325  \n",
       "2023007             0.756579             0.766234  "
      ]
     },
     "execution_count": 9,
     "metadata": {},
     "output_type": "execute_result"
    }
   ],
   "source": [
    "x_train.head()"
   ]
  },
  {
   "cell_type": "code",
   "execution_count": 10,
   "metadata": {},
   "outputs": [
    {
     "name": "stdout",
     "output_type": "stream",
     "text": [
      "319\n",
      "319\n"
     ]
    }
   ],
   "source": [
    "print(len(Counter(x_train['ORIGIN_AIRPORT'])))\n",
    "print(len(Counter(x_train['DESTINATION_AIRPORT'])))"
   ]
  },
  {
   "cell_type": "code",
   "execution_count": 11,
   "metadata": {},
   "outputs": [
    {
     "name": "stdout",
     "output_type": "stream",
     "text": [
      "distance = tf.feature_column.numeric_column('DISTANCE')\n",
      "origin_avgtemp = tf.feature_column.numeric_column('ORIGIN_AVGTEMP')\n",
      "origin_maxtemp = tf.feature_column.numeric_column('ORIGIN_MAXTEMP')\n",
      "origin_mintemp = tf.feature_column.numeric_column('ORIGIN_MINTEMP')\n",
      "destination_avgtemp = tf.feature_column.numeric_column('DESTINATION_AVGTEMP')\n",
      "destination_maxtemp = tf.feature_column.numeric_column('DESTINATION_MAXTEMP')\n",
      "destination_mintemp = tf.feature_column.numeric_column('DESTINATION_MINTEMP')\n"
     ]
    }
   ],
   "source": [
    "# Print for each numeric feature columns\n",
    "for x in x_train[cols_to_norm].columns:\n",
    "    print(str(x).lower() +' = tf.feature_column.numeric_column(\\''+str(x)+'\\')')"
   ]
  },
  {
   "cell_type": "code",
   "execution_count": 12,
   "metadata": {},
   "outputs": [],
   "source": [
    "# Feature columns\n",
    "origin_airport = tf.feature_column.categorical_column_with_hash_bucket(\n",
    "    'ORIGIN_AIRPORT', hash_bucket_size = 320)\n",
    "destination_airport = tf.feature_column.categorical_column_with_hash_bucket(\n",
    "    'DESTINATION_AIRPORT', hash_bucket_size = 320)\n",
    "distance = tf.feature_column.numeric_column('DISTANCE')\n",
    "origin_avgtemp = tf.feature_column.numeric_column('ORIGIN_AVGTEMP')\n",
    "origin_maxtemp = tf.feature_column.numeric_column('ORIGIN_MAXTEMP')\n",
    "origin_mintemp = tf.feature_column.numeric_column('ORIGIN_MINTEMP')\n",
    "destination_avgtemp = tf.feature_column.numeric_column('DESTINATION_AVGTEMP')\n",
    "destination_maxtemp = tf.feature_column.numeric_column('DESTINATION_MAXTEMP')\n",
    "destination_mintemp = tf.feature_column.numeric_column('DESTINATION_MINTEMP')"
   ]
  },
  {
   "cell_type": "code",
   "execution_count": 13,
   "metadata": {},
   "outputs": [
    {
     "name": "stdout",
     "output_type": "stream",
     "text": [
      "origin_airport, destination_airport, distance, origin_avgtemp, origin_maxtemp, origin_mintemp, destination_avgtemp, destination_maxtemp, destination_mintemp, "
     ]
    }
   ],
   "source": [
    "for i in x_train.columns:\n",
    "    print(i.lower(),end=\", \")"
   ]
  },
  {
   "cell_type": "code",
   "execution_count": 14,
   "metadata": {},
   "outputs": [],
   "source": [
    "# Create a list for the feature columns\n",
    "feat_cols = [origin_airport, destination_airport, distance,\n",
    "             origin_avgtemp, origin_maxtemp, origin_mintemp,\n",
    "             destination_avgtemp, destination_maxtemp, destination_mintemp]"
   ]
  },
  {
   "cell_type": "code",
   "execution_count": 15,
   "metadata": {},
   "outputs": [],
   "source": [
    "# Creat input function with train data and train specifications\n",
    "input_func = tf.estimator.inputs.pandas_input_fn(x=x_train,y=y_train, batch_size=10,\n",
    "                                                 num_epochs=1000,shuffle=True)"
   ]
  },
  {
   "cell_type": "code",
   "execution_count": 16,
   "metadata": {},
   "outputs": [
    {
     "name": "stdout",
     "output_type": "stream",
     "text": [
      "INFO:tensorflow:Using default config.\n",
      "WARNING:tensorflow:Using temporary folder as model directory: /tmp/tmp5s58p43c\n",
      "INFO:tensorflow:Using config: {'_model_dir': '/tmp/tmp5s58p43c', '_tf_random_seed': None, '_save_summary_steps': 100, '_save_checkpoints_steps': None, '_save_checkpoints_secs': 600, '_session_config': allow_soft_placement: true\n",
      "graph_options {\n",
      "  rewrite_options {\n",
      "    meta_optimizer_iterations: ONE\n",
      "  }\n",
      "}\n",
      ", '_keep_checkpoint_max': 5, '_keep_checkpoint_every_n_hours': 10000, '_log_step_count_steps': 100, '_train_distribute': None, '_device_fn': None, '_protocol': None, '_eval_distribute': None, '_experimental_distribute': None, '_service': None, '_cluster_spec': <tensorflow.python.training.server_lib.ClusterSpec object at 0x7ff4f9c11fd0>, '_task_type': 'worker', '_task_id': 0, '_global_id_in_cluster': 0, '_master': '', '_evaluation_master': '', '_is_chief': True, '_num_ps_replicas': 0, '_num_worker_replicas': 1}\n"
     ]
    }
   ],
   "source": [
    "# Create model\n",
    "model = tf.estimator.LinearClassifier(feature_columns=feat_cols,n_classes=2)"
   ]
  },
  {
   "cell_type": "code",
   "execution_count": 17,
   "metadata": {},
   "outputs": [
    {
     "name": "stdout",
     "output_type": "stream",
     "text": [
      "WARNING:tensorflow:From /home/eugenio/.local/lib/python3.6/site-packages/tensorflow/python/estimator/inputs/queues/feeding_queue_runner.py:62: QueueRunner.__init__ (from tensorflow.python.training.queue_runner_impl) is deprecated and will be removed in a future version.\n",
      "Instructions for updating:\n",
      "To construct input pipelines, use the `tf.data` module.\n",
      "WARNING:tensorflow:From /home/eugenio/.local/lib/python3.6/site-packages/tensorflow/python/estimator/inputs/queues/feeding_functions.py:500: add_queue_runner (from tensorflow.python.training.queue_runner_impl) is deprecated and will be removed in a future version.\n",
      "Instructions for updating:\n",
      "To construct input pipelines, use the `tf.data` module.\n",
      "INFO:tensorflow:Calling model_fn.\n",
      "INFO:tensorflow:Done calling model_fn.\n",
      "INFO:tensorflow:Create CheckpointSaverHook.\n",
      "INFO:tensorflow:Graph was finalized.\n",
      "INFO:tensorflow:Running local_init_op.\n",
      "INFO:tensorflow:Done running local_init_op.\n",
      "WARNING:tensorflow:From /home/eugenio/.local/lib/python3.6/site-packages/tensorflow/python/training/monitored_session.py:804: start_queue_runners (from tensorflow.python.training.queue_runner_impl) is deprecated and will be removed in a future version.\n",
      "Instructions for updating:\n",
      "To construct input pipelines, use the `tf.data` module.\n",
      "INFO:tensorflow:Saving checkpoints for 0 into /tmp/tmp5s58p43c/model.ckpt.\n",
      "INFO:tensorflow:loss = 6.931472, step = 1\n",
      "INFO:tensorflow:global_step/sec: 235.74\n",
      "INFO:tensorflow:loss = 0.29012513, step = 101 (0.427 sec)\n",
      "INFO:tensorflow:global_step/sec: 359.994\n",
      "INFO:tensorflow:loss = 0.109917864, step = 201 (0.281 sec)\n",
      "INFO:tensorflow:global_step/sec: 349.542\n",
      "INFO:tensorflow:loss = 0.1658538, step = 301 (0.285 sec)\n",
      "INFO:tensorflow:global_step/sec: 312.709\n",
      "INFO:tensorflow:loss = 0.36847347, step = 401 (0.319 sec)\n",
      "INFO:tensorflow:global_step/sec: 348.336\n",
      "INFO:tensorflow:loss = 0.15629992, step = 501 (0.284 sec)\n",
      "INFO:tensorflow:global_step/sec: 315.818\n",
      "INFO:tensorflow:loss = 0.18967575, step = 601 (0.318 sec)\n",
      "INFO:tensorflow:global_step/sec: 313.547\n",
      "INFO:tensorflow:loss = 2.492857, step = 701 (0.321 sec)\n",
      "INFO:tensorflow:global_step/sec: 324.259\n",
      "INFO:tensorflow:loss = 0.13625677, step = 801 (0.307 sec)\n",
      "INFO:tensorflow:global_step/sec: 353.918\n",
      "INFO:tensorflow:loss = 0.10258894, step = 901 (0.287 sec)\n",
      "INFO:tensorflow:Saving checkpoints for 1000 into /tmp/tmp5s58p43c/model.ckpt.\n",
      "INFO:tensorflow:Loss for final step: 0.12541623.\n"
     ]
    },
    {
     "data": {
      "text/plain": [
       "<tensorflow.python.estimator.canned.linear.LinearClassifier at 0x7ff4f9c11518>"
      ]
     },
     "execution_count": 17,
     "metadata": {},
     "output_type": "execute_result"
    }
   ],
   "source": [
    "# Train the model\n",
    "model.train(input_fn=input_func,steps=1000)"
   ]
  },
  {
   "cell_type": "code",
   "execution_count": 18,
   "metadata": {},
   "outputs": [],
   "source": [
    "# Input function for evaluation\n",
    "eval_input_func = tf.estimator.inputs.pandas_input_fn(\n",
    "    x=x_test ,y=y_test, batch_size=10, num_epochs=1,\n",
    "    shuffle=False)"
   ]
  },
  {
   "cell_type": "code",
   "execution_count": 19,
   "metadata": {},
   "outputs": [
    {
     "name": "stdout",
     "output_type": "stream",
     "text": [
      "INFO:tensorflow:Calling model_fn.\n",
      "WARNING:tensorflow:Trapezoidal rule is known to produce incorrect PR-AUCs; please switch to \"careful_interpolation\" instead.\n",
      "WARNING:tensorflow:Trapezoidal rule is known to produce incorrect PR-AUCs; please switch to \"careful_interpolation\" instead.\n",
      "INFO:tensorflow:Done calling model_fn.\n",
      "INFO:tensorflow:Starting evaluation at 2018-10-20-13:59:50\n",
      "INFO:tensorflow:Graph was finalized.\n",
      "INFO:tensorflow:Restoring parameters from /tmp/tmp5s58p43c/model.ckpt-1000\n",
      "INFO:tensorflow:Running local_init_op.\n",
      "INFO:tensorflow:Done running local_init_op.\n",
      "INFO:tensorflow:Finished evaluation at 2018-10-20-14:06:27\n",
      "INFO:tensorflow:Saving dict for global step 1000: accuracy = 0.98361623, accuracy_baseline = 0.98361623, auc = 0.7077249, auc_precision_recall = 0.053510875, average_loss = 0.07825911, global_step = 1000, label/mean = 0.016383793, loss = 0.7825875, precision = 0.0, prediction/mean = 0.01443754, recall = 0.0\n",
      "INFO:tensorflow:Saving 'checkpoint_path' summary for global step 1000: /tmp/tmp5s58p43c/model.ckpt-1000\n"
     ]
    }
   ],
   "source": [
    "# Evaluate the model\n",
    "evaluation = model.evaluate(eval_input_func)"
   ]
  },
  {
   "cell_type": "code",
   "execution_count": 20,
   "metadata": {},
   "outputs": [
    {
     "data": {
      "text/plain": [
       "{'accuracy': 0.98361623,\n",
       " 'accuracy_baseline': 0.98361623,\n",
       " 'auc': 0.7077249,\n",
       " 'auc_precision_recall': 0.053510875,\n",
       " 'average_loss': 0.07825911,\n",
       " 'label/mean': 0.016383793,\n",
       " 'loss': 0.7825875,\n",
       " 'precision': 0.0,\n",
       " 'prediction/mean': 0.01443754,\n",
       " 'recall': 0.0,\n",
       " 'global_step': 1000}"
      ]
     },
     "execution_count": 20,
     "metadata": {},
     "output_type": "execute_result"
    }
   ],
   "source": [
    "evaluation"
   ]
  },
  {
   "cell_type": "code",
   "execution_count": 21,
   "metadata": {},
   "outputs": [],
   "source": [
    "pred_fn = tf.estimator.inputs.pandas_input_fn(\n",
    "    x=x_test,batch_size=len(x_test),shuffle=False)"
   ]
  },
  {
   "cell_type": "code",
   "execution_count": 22,
   "metadata": {},
   "outputs": [],
   "source": [
    "pred_gen = model.predict(input_fn=pred_fn)"
   ]
  },
  {
   "cell_type": "code",
   "execution_count": 23,
   "metadata": {},
   "outputs": [
    {
     "name": "stdout",
     "output_type": "stream",
     "text": [
      "INFO:tensorflow:Calling model_fn.\n",
      "INFO:tensorflow:Done calling model_fn.\n",
      "INFO:tensorflow:Graph was finalized.\n",
      "INFO:tensorflow:Restoring parameters from /tmp/tmp5s58p43c/model.ckpt-1000\n",
      "INFO:tensorflow:Running local_init_op.\n",
      "INFO:tensorflow:Done running local_init_op.\n"
     ]
    }
   ],
   "source": [
    "predictions = list(pred_gen)"
   ]
  },
  {
   "cell_type": "code",
   "execution_count": 24,
   "metadata": {},
   "outputs": [],
   "source": [
    "final_preds = [pred['class_ids'][0] for pred in predictions]"
   ]
  },
  {
   "cell_type": "code",
   "execution_count": 25,
   "metadata": {},
   "outputs": [
    {
     "name": "stdout",
     "output_type": "stream",
     "text": [
      "              precision    recall  f1-score   support\n",
      "\n",
      "           0       0.98      1.00      0.99   1502339\n",
      "           1       0.00      0.00      0.00     25024\n",
      "\n",
      "   micro avg       0.98      0.98      0.98   1527363\n",
      "   macro avg       0.49      0.50      0.50   1527363\n",
      "weighted avg       0.97      0.98      0.98   1527363\n",
      "\n"
     ]
    }
   ],
   "source": [
    "print(classification_report(y_test,final_preds))"
   ]
  },
  {
   "cell_type": "code",
   "execution_count": 26,
   "metadata": {},
   "outputs": [
    {
     "data": {
      "text/plain": [
       "Counter({0: 1527363})"
      ]
     },
     "execution_count": 26,
     "metadata": {},
     "output_type": "execute_result"
    }
   ],
   "source": [
    "Counter(final_preds)"
   ]
  },
  {
   "cell_type": "markdown",
   "metadata": {},
   "source": [
    "So the LinearClassifier clearly failed in this task, with these inputs. Lets try a DNNClassifier:"
   ]
  },
  {
   "cell_type": "code",
   "execution_count": 27,
   "metadata": {},
   "outputs": [],
   "source": [
    "# Create embedded columns\n",
    "embedded_origin_airport = tf.feature_column.embedding_column(\n",
    "    origin_airport,dimension = 4)\n",
    "embedded_destination_airport = tf.feature_column.embedding_column(\n",
    "    destination_airport,dimension = 4)"
   ]
  },
  {
   "cell_type": "code",
   "execution_count": 28,
   "metadata": {},
   "outputs": [],
   "source": [
    "# Create a new list for the feature columns\n",
    "feat_cols = [embedded_origin_airport, embedded_destination_airport,\n",
    "             distance, origin_avgtemp, origin_maxtemp, origin_mintemp,\n",
    "             destination_avgtemp, destination_maxtemp, destination_mintemp]"
   ]
  },
  {
   "cell_type": "code",
   "execution_count": 29,
   "metadata": {},
   "outputs": [],
   "source": [
    "input_func = tf.estimator.inputs.pandas_input_fn(\n",
    "    x_train,y_train,batch_size=10,num_epochs=1000,shuffle=True)"
   ]
  },
  {
   "cell_type": "code",
   "execution_count": 30,
   "metadata": {},
   "outputs": [
    {
     "name": "stdout",
     "output_type": "stream",
     "text": [
      "INFO:tensorflow:Using default config.\n",
      "WARNING:tensorflow:Using temporary folder as model directory: /tmp/tmpl1w304s0\n",
      "INFO:tensorflow:Using config: {'_model_dir': '/tmp/tmpl1w304s0', '_tf_random_seed': None, '_save_summary_steps': 100, '_save_checkpoints_steps': None, '_save_checkpoints_secs': 600, '_session_config': allow_soft_placement: true\n",
      "graph_options {\n",
      "  rewrite_options {\n",
      "    meta_optimizer_iterations: ONE\n",
      "  }\n",
      "}\n",
      ", '_keep_checkpoint_max': 5, '_keep_checkpoint_every_n_hours': 10000, '_log_step_count_steps': 100, '_train_distribute': None, '_device_fn': None, '_protocol': None, '_eval_distribute': None, '_experimental_distribute': None, '_service': None, '_cluster_spec': <tensorflow.python.training.server_lib.ClusterSpec object at 0x7ff3c16f7278>, '_task_type': 'worker', '_task_id': 0, '_global_id_in_cluster': 0, '_master': '', '_evaluation_master': '', '_is_chief': True, '_num_ps_replicas': 0, '_num_worker_replicas': 1}\n"
     ]
    }
   ],
   "source": [
    "dnn_model = tf.estimator.DNNClassifier(\n",
    "    hidden_units=[9,9,9,9],feature_columns=feat_cols,n_classes=2)"
   ]
  },
  {
   "cell_type": "code",
   "execution_count": 31,
   "metadata": {},
   "outputs": [
    {
     "name": "stdout",
     "output_type": "stream",
     "text": [
      "INFO:tensorflow:Calling model_fn.\n",
      "INFO:tensorflow:Done calling model_fn.\n",
      "INFO:tensorflow:Create CheckpointSaverHook.\n",
      "INFO:tensorflow:Graph was finalized.\n",
      "INFO:tensorflow:Running local_init_op.\n",
      "INFO:tensorflow:Done running local_init_op.\n",
      "INFO:tensorflow:Saving checkpoints for 0 into /tmp/tmpl1w304s0/model.ckpt.\n",
      "INFO:tensorflow:loss = 8.180362, step = 1\n",
      "INFO:tensorflow:global_step/sec: 263.651\n",
      "INFO:tensorflow:loss = 3.9235096, step = 101 (0.380 sec)\n",
      "INFO:tensorflow:global_step/sec: 423.264\n",
      "INFO:tensorflow:loss = 0.13816127, step = 201 (0.238 sec)\n",
      "INFO:tensorflow:global_step/sec: 411.798\n",
      "INFO:tensorflow:loss = 0.21365617, step = 301 (0.244 sec)\n",
      "INFO:tensorflow:global_step/sec: 374.419\n",
      "INFO:tensorflow:loss = 0.13298939, step = 401 (0.266 sec)\n",
      "INFO:tensorflow:global_step/sec: 381.229\n",
      "INFO:tensorflow:loss = 0.14135225, step = 501 (0.262 sec)\n",
      "INFO:tensorflow:global_step/sec: 350.914\n",
      "INFO:tensorflow:loss = 0.2775678, step = 601 (0.285 sec)\n",
      "INFO:tensorflow:global_step/sec: 388.629\n",
      "INFO:tensorflow:loss = 0.11198791, step = 701 (0.260 sec)\n",
      "INFO:tensorflow:global_step/sec: 394.745\n",
      "INFO:tensorflow:loss = 0.31085715, step = 801 (0.253 sec)\n",
      "INFO:tensorflow:global_step/sec: 348.375\n",
      "INFO:tensorflow:loss = 0.24227121, step = 901 (0.288 sec)\n",
      "INFO:tensorflow:Saving checkpoints for 1000 into /tmp/tmpl1w304s0/model.ckpt.\n",
      "INFO:tensorflow:Loss for final step: 0.16689412.\n"
     ]
    },
    {
     "data": {
      "text/plain": [
       "<tensorflow.python.estimator.canned.dnn.DNNClassifier at 0x7ff3c16f7048>"
      ]
     },
     "execution_count": 31,
     "metadata": {},
     "output_type": "execute_result"
    }
   ],
   "source": [
    "dnn_model.train(input_fn=input_func,steps=1000)"
   ]
  },
  {
   "cell_type": "code",
   "execution_count": 32,
   "metadata": {},
   "outputs": [],
   "source": [
    "eval_input_func = tf.estimator.inputs.pandas_input_fn(\n",
    "    x=x_test,y=y_test,batch_size=10,num_epochs=1,shuffle=False)"
   ]
  },
  {
   "cell_type": "code",
   "execution_count": 33,
   "metadata": {},
   "outputs": [],
   "source": [
    "pred_gen = dnn_model.predict(input_fn=eval_input_func)"
   ]
  },
  {
   "cell_type": "code",
   "execution_count": 34,
   "metadata": {},
   "outputs": [
    {
     "name": "stdout",
     "output_type": "stream",
     "text": [
      "INFO:tensorflow:Calling model_fn.\n",
      "INFO:tensorflow:Done calling model_fn.\n",
      "INFO:tensorflow:Graph was finalized.\n",
      "INFO:tensorflow:Restoring parameters from /tmp/tmpl1w304s0/model.ckpt-1000\n",
      "INFO:tensorflow:Running local_init_op.\n",
      "INFO:tensorflow:Done running local_init_op.\n"
     ]
    }
   ],
   "source": [
    "predictions = list(pred_gen)"
   ]
  },
  {
   "cell_type": "code",
   "execution_count": 35,
   "metadata": {},
   "outputs": [],
   "source": [
    "final_preds = [pred['class_ids'][0] for pred in predictions]"
   ]
  },
  {
   "cell_type": "code",
   "execution_count": 36,
   "metadata": {},
   "outputs": [
    {
     "name": "stdout",
     "output_type": "stream",
     "text": [
      "              precision    recall  f1-score   support\n",
      "\n",
      "           0       0.98      1.00      0.99   1502339\n",
      "           1       0.00      0.00      0.00     25024\n",
      "\n",
      "   micro avg       0.98      0.98      0.98   1527363\n",
      "   macro avg       0.49      0.50      0.50   1527363\n",
      "weighted avg       0.97      0.98      0.98   1527363\n",
      "\n"
     ]
    }
   ],
   "source": [
    "print(classification_report(y_test,final_preds))"
   ]
  },
  {
   "cell_type": "code",
   "execution_count": 37,
   "metadata": {},
   "outputs": [
    {
     "data": {
      "text/plain": [
       "Counter({0: 1527363})"
      ]
     },
     "execution_count": 37,
     "metadata": {},
     "output_type": "execute_result"
    }
   ],
   "source": [
    "Counter(final_preds)"
   ]
  }
 ],
 "metadata": {
  "kernelspec": {
   "display_name": "Python 3",
   "language": "python",
   "name": "python3"
  },
  "language_info": {
   "codemirror_mode": {
    "name": "ipython",
    "version": 3
   },
   "file_extension": ".py",
   "mimetype": "text/x-python",
   "name": "python",
   "nbconvert_exporter": "python",
   "pygments_lexer": "ipython3",
   "version": "3.6.6"
  }
 },
 "nbformat": 4,
 "nbformat_minor": 2
}
